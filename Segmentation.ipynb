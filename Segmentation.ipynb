{
  "nbformat": 4,
  "nbformat_minor": 0,
  "metadata": {
    "colab": {
      "provenance": []
    },
    "kernelspec": {
      "name": "python3",
      "display_name": "Python 3"
    },
    "language_info": {
      "name": "python"
    }
  },
  "cells": [
    {
      "cell_type": "code",
      "execution_count": 1,
      "metadata": {
        "id": "ujoUteNSts7i"
      },
      "outputs": [],
      "source": [
        "import cv2\n",
        "import numpy as np\n",
        "import os\n",
        "import pandas as pd\n",
        "from sklearn.metrics import jaccard_score, accuracy_score"
      ]
    },
    {
      "cell_type": "code",
      "source": [
        "# Function to apply all 4 segmentation methods\n",
        "def apply_segmentation_methods(image):\n",
        "    methods = {}\n",
        "\n",
        "    # 1. Canny Edge Detection\n",
        "    canny = cv2.Canny(image, 100, 200)\n",
        "    methods[\"Canny\"] = (canny > 0).astype(np.uint8)\n",
        "\n",
        "    # 2. Canny + Otsu Threshold\n",
        "    otsu_thresh = threshold_otsu(image)\n",
        "    binary = (image > otsu_thresh).astype(np.uint8)\n",
        "    canny_otsu = np.logical_and(canny > 0, binary > 0).astype(np.uint8)\n",
        "    methods[\"Canny+Otsu\"] = canny_otsu\n",
        "\n",
        "    # 3. Morphological Post-processing\n",
        "    kernel = np.ones((3, 3), np.uint8)\n",
        "    morph = cv2.morphologyEx(canny_otsu.astype(np.uint8), cv2.MORPH_CLOSE, kernel)\n",
        "    morph = cv2.morphologyEx(morph, cv2.MORPH_OPEN, kernel)\n",
        "    methods[\"Morphological\"] = morph\n",
        "\n",
        "    # 4. Refined Contour-based Segmentation\n",
        "    refined_mask = np.zeros_like(image, dtype=np.uint8)\n",
        "    clean = cv2.morphologyEx(binary, cv2.MORPH_CLOSE, np.ones((5, 5), np.uint8))\n",
        "    clean = cv2.morphologyEx(clean, cv2.MORPH_OPEN, np.ones((5, 5), np.uint8))\n",
        "    contours, _ = cv2.findContours(clean, cv2.RETR_EXTERNAL, cv2.CHAIN_APPROX_SIMPLE)\n",
        "    if contours:\n",
        "        largest = max(contours, key=cv2.contourArea)\n",
        "        hull = cv2.convexHull(largest)\n",
        "        cv2.drawContours(refined_mask, [hull], -1, 255, -1)\n",
        "    methods[\"Refined\"] = (refined_mask > 127).astype(np.uint8)\n",
        "\n",
        "    return methods\n",
        "\n",
        "# Set your input directory path\n",
        "input_dir = \"your/image/folder/path\"\n",
        "output_dir = \"output_folder\"\n",
        "os.makedirs(output_dir, exist_ok=True)\n",
        "\n",
        "# Process each image\n",
        "for filename in os.listdir(input_dir):\n",
        "    if filename.lower().endswith(('.jpg', '.png', '.jpeg')):\n",
        "        img_path = os.path.join(input_dir, filename)\n",
        "        image = cv2.imread(img_path, cv2.IMREAD_GRAYSCALE)\n",
        "\n",
        "        results = apply_segmentation_methods(image)\n",
        "        results[\"Original\"] = image\n",
        "\n",
        "        # Save combined output\n",
        "        fig, axes = plt.subplots(1, 5, figsize=(20, 4))\n",
        "        for i, (title, mask) in enumerate(results.items()):\n",
        "            axes[i].imshow(mask * 255 if title != \"Original\" else mask, cmap='gray')\n",
        "            axes[i].set_title(title)\n",
        "            axes[i].axis('off')\n",
        "        plt.tight_layout()\n",
        "        save_path = os.path.join(output_dir, f\"segmentation_{filename}\")\n",
        "        plt.savefig(save_path)\n",
        "        plt.close()"
      ],
      "metadata": {
        "id": "pndeeH8BumOR"
      },
      "execution_count": 2,
      "outputs": []
    },
    {
      "cell_type": "code",
      "source": [
        "# Function to compute IoU and Dice Score\n",
        "def calculate_metrics(pred_mask, true_mask):\n",
        "    pred_mask = pred_mask.flatten() // 255\n",
        "    true_mask = true_mask.flatten() // 255\n",
        "\n",
        "    intersection = np.sum(pred_mask * true_mask)\n",
        "    union = np.sum(pred_mask) + np.sum(true_mask) - intersection\n",
        "\n",
        "    iou = intersection / union if union != 0 else 0\n",
        "    dice = (2 * intersection) / (np.sum(pred_mask) + np.sum(true_mask)) if (np.sum(pred_mask) + np.sum(true_mask)) != 0 else 0\n",
        "    accuracy = accuracy_score(true_mask, pred_mask)\n",
        "\n",
        "    return iou, dice, accuracy\n"
      ],
      "metadata": {
        "id": "UV8cTUIzurEB"
      },
      "execution_count": 3,
      "outputs": []
    },
    {
      "cell_type": "code",
      "source": [
        "def process_directory(base_path):\n",
        "    masked_images_path = os.path.join(base_path, \"1\", \"face_crop\")\n",
        "    ground_truth_path = os.path.join(base_path, \"1\", \"face_crop_segmentation\")\n",
        "\n",
        "    image_files = [f for f in os.listdir(masked_images_path) if f.endswith(('.jpg', '.png'))]\n",
        "\n",
        "    results = []\n",
        "    for file_name in image_files:\n",
        "        img_path = os.path.join(masked_images_path, file_name)\n",
        "        mask_path = os.path.join(ground_truth_path, file_name)\n",
        "\n",
        "        if not os.path.exists(mask_path):\n",
        "            continue  # Skip if no corresponding ground truth\n",
        "\n",
        "        # Read images and masks\n",
        "        image = cv2.imread(img_path)\n",
        "        true_mask = cv2.imread(mask_path, cv2.IMREAD_GRAYSCALE)\n",
        "\n",
        "        # Segment the mask\n",
        "        pred_mask = segment_mask(image)\n",
        "\n",
        "        # Compute metrics\n",
        "        iou, dice, acc = calculate_metrics(pred_mask, true_mask)\n",
        "\n",
        "        results.append([file_name, iou, dice, acc])\n",
        "\n",
        "    # Convert results to DataFrame\n",
        "    df_results = pd.DataFrame(results, columns=[\"Image\", \"IoU\", \"Dice Score\", \"Accuracy\"])\n",
        "\n",
        "    return df_results"
      ],
      "metadata": {
        "id": "n0vR_yjluvkR"
      },
      "execution_count": 5,
      "outputs": []
    },
    {
      "cell_type": "code",
      "source": [
        "base_directory = \"path_to_mfsd_directory\"\n",
        "results_df = process_directory(base_directory)\n",
        "print(results_df)"
      ],
      "metadata": {
        "id": "PtkNjKT-vBld"
      },
      "execution_count": null,
      "outputs": []
    }
  ]
}